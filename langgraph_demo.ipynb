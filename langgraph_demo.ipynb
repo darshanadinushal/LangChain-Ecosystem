{
 "cells": [
  {
   "cell_type": "code",
   "execution_count": 1,
   "metadata": {},
   "outputs": [],
   "source": [
    "import os\n",
    "from dotenv import load_dotenv, find_dotenv"
   ]
  },
  {
   "cell_type": "code",
   "execution_count": 2,
   "metadata": {},
   "outputs": [],
   "source": [
    "_ = load_dotenv(find_dotenv())\n",
    "\n",
    "OPENAI_API_KEY = os.getenv(\"OPENAI_API_KEY\")\n",
    "TAVILY_API_KEY = os.getenv(\"TAVILY_API_KEY\")"
   ]
  },
  {
   "cell_type": "code",
   "execution_count": 3,
   "metadata": {},
   "outputs": [],
   "source": [
    "from langchain_openai import ChatOpenAI\n",
    "\n",
    "llm = ChatOpenAI(model=\"gpt-3.5-turbo\")"
   ]
  },
  {
   "cell_type": "code",
   "execution_count": 4,
   "metadata": {},
   "outputs": [
    {
     "data": {
      "text/plain": [
       "[{'url': 'https://www.hindustantimes.com/cricket/ipl/points-table',\n",
       "  'content': 'Royal Challengers Bengaluru (RCB) and Gujarat Titans (GT) occupy the second and third spots, respectively, each with two wins and a healthy net run rate. Rajasthan Royals’ win over PBKS lifted them to seventh, while Lucknow Super Giants (LSG), despite a thrilling victory over Mumbai Indians (MI), remained in sixth place. Kolkata Knight Riders with two wins are placed fifth in the IPL 2025 standings. [...] IPL Points Table: Delhi Capitals (DC) have surged to the top of the IPL 2025 points table after a convincing win over Chennai Super Kings (CSK) on Saturday. With three wins from as many matches, DC have looked like the most balanced side so far, boasting a net run rate of +1.257. Punjab Kings (PBKS), who suffered their first defeat of the season at the hands of Rajasthan Royals (RR), have dropped to fourth in the standings. [...] In IPL 2024, the final team standings at the end of the league stage saw Kolkata Knight Riders leading the points table with 20 points. Their consistency and dominant performances ensured they finished at the top. Sunrisers Hyderabad and Rajasthan Royals both ended the league phase with 17 points, but SRH took the second position due to a superior net run rate.'},\n",
       " {'url': 'https://timesofindia.indiatimes.com/sports/cricket/ipl/points-table',\n",
       "  'content': 'IPL points table 2025: Delhi Capitals climbed to the top of the IPL points table 2025 with a magnificent win against Chennai Super Kings (CSK) on Saturday.'},\n",
       " {'url': 'https://www.timesnownews.com/sports/cricket/ipl-points-table',\n",
       "  'content': 'IPL 2025 Points Table ; 1, Delhi Capitals, 3 ; 2, Royal Challengers Bengaluru, 3 ; 3, Gujarat Titans, 3 ; 4, Punjab Kings, 3'}]"
      ]
     },
     "execution_count": 4,
     "metadata": {},
     "output_type": "execute_result"
    }
   ],
   "source": [
    "from langchain_community.tools.tavily_search import TavilySearchResults\n",
    "\n",
    "search = TavilySearchResults(max_results=3)\n",
    "search.invoke(\"Who are the top of the IPL teams currently in the table?\")"
   ]
  },
  {
   "cell_type": "code",
   "execution_count": 5,
   "metadata": {},
   "outputs": [],
   "source": [
    "tools =[search]"
   ]
  },
  {
   "cell_type": "code",
   "execution_count": 6,
   "metadata": {},
   "outputs": [
    {
     "name": "stdout",
     "output_type": "stream",
     "text": [
      "<built-in method count of list object at 0x000001ACDE213600>\n"
     ]
    }
   ],
   "source": [
    "tools\n",
    "print(tools.count)"
   ]
  },
  {
   "cell_type": "code",
   "execution_count": 7,
   "metadata": {},
   "outputs": [],
   "source": [
    "from langgraph.prebuilt import create_react_agent\n",
    "\n",
    "agent_executor = create_react_agent(llm, tools)\n"
   ]
  },
  {
   "cell_type": "code",
   "execution_count": 10,
   "metadata": {},
   "outputs": [
    {
     "data": {
      "text/plain": [
       "[HumanMessage(content='Who are the top of the IPL teams currently in the table?', id='380922d2-664b-4f03-a550-d3e7077c02a1'),\n",
       " AIMessage(content='', additional_kwargs={'tool_calls': [{'id': 'call_5brDt6RsdSB8Q0PlL2rFXJdb', 'function': {'arguments': '{\"query\":\"IPL 2021 points table\"}', 'name': 'tavily_search_results_json'}, 'type': 'function'}]}, response_metadata={'token_usage': {'completion_tokens': 25, 'prompt_tokens': 94, 'total_tokens': 119, 'completion_tokens_details': {'accepted_prediction_tokens': 0, 'audio_tokens': 0, 'reasoning_tokens': 0, 'rejected_prediction_tokens': 0}, 'prompt_tokens_details': {'audio_tokens': 0, 'cached_tokens': 0}}, 'model_name': 'gpt-3.5-turbo-0125', 'system_fingerprint': None, 'finish_reason': 'tool_calls', 'logprobs': None}, id='run-0ccf1e43-66bc-49e7-ab41-c2cf826333c4-0', tool_calls=[{'name': 'tavily_search_results_json', 'args': {'query': 'IPL 2021 points table'}, 'id': 'call_5brDt6RsdSB8Q0PlL2rFXJdb', 'type': 'tool_call'}], usage_metadata={'input_tokens': 94, 'output_tokens': 25, 'total_tokens': 119}),\n",
       " ToolMessage(content='[{\"url\": \"https://www.cricbuzz.com/cricket-series/3472/indian-premier-league-2021/points-table\", \"content\": \"Rajasthan Royals | 32nd Match | 21 Sep | Loss by 2 runs\\\\nSunrisers Hyderabad | 37th Match | 25 Sep | Won by 5 runs\\\\nMumbai Indians | 42nd Match | 28 Sep | Loss by 6 wkts\\\\nKolkata Knight Riders | 45th Match | 01 Oct | Won by 5 wkts\\\\nRoyal Challengers Bengaluru | 48th Match | 03 Oct | Loss by 6 runs\\\\nChennai Super Kings | 53rd Match | 07 Oct | Won by 6 wkts\\\\nRajasthan Royals | 14 | 5 | 9 | 0 | 0 | 10 | -0.993 | [...] Delhi Capitals | 36th Match | 25 Sep | Loss by 33 runs\\\\nSunrisers Hyderabad | 40th Match | 27 Sep | Loss by 7 wkts\\\\nRoyal Challengers Bengaluru | 43rd Match | 29 Sep | Loss by 7 wkts\\\\nChennai Super Kings | 47th Match | 02 Oct | Won by 7 wkts\\\\nMumbai Indians | 51st Match | 05 Oct | Loss by 8 wkts\\\\nKolkata Knight Riders | 54th Match | 07 Oct | Loss by 86 runs\\\\nSunrisers Hyderabad(E) | 14 | 3 | 11 | 0 | 0 | 6 | -0.545 | [...] Teams | Mat | Won | Lost | Tied | NR | Pts | NRR | \\\\nDelhi Capitals(Q) | 14 | 10 | 4 | 0 | 0 | 20 | +0.481 |\"}, {\"url\": \"https://sports.ndtv.com/ipl-2021&quot;/points-table\", \"content\": \"No | Teams | P | W | L | T | NR | PTS | NRR | \\\\n1 | Delhi CapitalsDC | 14 | 10 | 4 | 0 | 0 | 20 | +0.481 | [...] 8 | Sunrisers HyderabadSRH | 14 | 3 | 11 | 0 | 0 | 6 | -0.545 | [...] 3 | Royal Challengers BangaloreRCB | 14 | 9 | 5 | 0 | 0 | 18 | -0.140 |\"}]', name='tavily_search_results_json', id='ecb59eff-e4df-422c-a716-c7d5849dcbbe', tool_call_id='call_5brDt6RsdSB8Q0PlL2rFXJdb'),\n",
       " AIMessage(content='The top teams in the IPL currently are:\\n\\n1. Delhi Capitals\\n2. Royal Challengers Bangalore\\n\\nDelhi Capitals are leading the table with 20 points, while Royal Challengers Bangalore are in second place with 18 points.', response_metadata={'token_usage': {'completion_tokens': 49, 'prompt_tokens': 667, 'total_tokens': 716, 'completion_tokens_details': {'accepted_prediction_tokens': 0, 'audio_tokens': 0, 'reasoning_tokens': 0, 'rejected_prediction_tokens': 0}, 'prompt_tokens_details': {'audio_tokens': 0, 'cached_tokens': 0}}, 'model_name': 'gpt-3.5-turbo-0125', 'system_fingerprint': None, 'finish_reason': 'stop', 'logprobs': None}, id='run-b8a96e41-20f7-4cbf-aba3-81c34621d377-0', usage_metadata={'input_tokens': 667, 'output_tokens': 49, 'total_tokens': 716})]"
      ]
     },
     "execution_count": 10,
     "metadata": {},
     "output_type": "execute_result"
    }
   ],
   "source": [
    "from langchain_core.messages import HumanMessage\n",
    "\n",
    "response = agent_executor.invoke({\"messages\": [HumanMessage(content=\"Who are the top of the IPL teams currently in the table?\")]})\n",
    "\n",
    "response[\"messages\"]"
   ]
  },
  {
   "cell_type": "code",
   "execution_count": 11,
   "metadata": {},
   "outputs": [
    {
     "data": {
      "text/plain": [
       "[HumanMessage(content='what is Python?', id='c1a4c760-8d3d-4eb9-a3b5-b539495ad768'),\n",
       " AIMessage(content='', additional_kwargs={'tool_calls': [{'id': 'call_JDVvgXK0fb6TzaVcu6Vwe3Ne', 'function': {'arguments': '{\"query\":\"Python\"}', 'name': 'tavily_search_results_json'}, 'type': 'function'}]}, response_metadata={'token_usage': {'completion_tokens': 19, 'prompt_tokens': 85, 'total_tokens': 104, 'completion_tokens_details': {'accepted_prediction_tokens': 0, 'audio_tokens': 0, 'reasoning_tokens': 0, 'rejected_prediction_tokens': 0}, 'prompt_tokens_details': {'audio_tokens': 0, 'cached_tokens': 0}}, 'model_name': 'gpt-3.5-turbo-0125', 'system_fingerprint': None, 'finish_reason': 'tool_calls', 'logprobs': None}, id='run-fbf5e1d1-8e4e-422b-85c0-d3543e150303-0', tool_calls=[{'name': 'tavily_search_results_json', 'args': {'query': 'Python'}, 'id': 'call_JDVvgXK0fb6TzaVcu6Vwe3Ne', 'type': 'tool_call'}], usage_metadata={'input_tokens': 85, 'output_tokens': 19, 'total_tokens': 104}),\n",
       " ToolMessage(content='[{\"url\": \"https://www.python.org/\", \"content\": \"Python is a programming language that lets you work quickly\\\\nand integrate systems more effectively. Learn More\\\\nGet Started\\\\nWhether you\\'re new to programming or an experienced developer, it\\'s easy to learn and use Python.\\\\nStart with our Beginner’s Guide\\\\nDownload\\\\nPython source code and installers are available for download for all versions!\\\\nLatest: Python 3.13.2\\\\nDocs\\\\nDocumentation for Python\\'s standard library, along with tutorials and guides, are available online.\\\\ndocs.python.org\\\\nJobs\"}, {\"url\": \"https://www.codecademy.com/learn/learn-python\", \"content\": \"Python is a general-purpose, versatile and popular programming language. It\\'s great as a first language because it is concise and easy to read,\"}, {\"url\": \"https://en.wikipedia.org/wiki/Python_(programming_language)\", \"content\": \"Python allows programmers to define their own types using classes, most often used for object-oriented programming. New instances of classes are constructed by calling the class (for example, SpamClass() or EggsClass()), and the classes are instances of the metaclass type (itself an instance of itself), allowing metaprogramming and reflection. [...] Jump to content\\\\nMain menu\\\\nSearch\\\\nDonate\\\\nCreate account\\\\nLog in\\\\nPersonal tools\\\\nToggle the table of contents\\\\nPython (programming language)\\\\n112 languages\\\\nArticle\\\\nTalk\\\\nRead\\\\nEdit\\\\nView history\\\\nTools\\\\nFrom Wikipedia, the free encyclopedia\\\\nThis article is about the Python programming language. For the animal, see Python (genus).\\\\nPython\\\\nParadigm    Multi-paradigm: object-oriented,[1] procedural (imperative), functional, structured, reflective\\\\nDesigned\\xa0by Guido van Rossum [...] Python is a multi-paradigm programming language. Object-oriented programming and structured programming are fully supported, and many of their features support functional programming and aspect-oriented programming (including metaprogramming[71] and metaobjects).[72] Many other paradigms are supported via extensions, including design by contract[73][74] and logic programming.[75] Python is often referred to as a \\'glue language\\'[76] because it can seamlessly integrate components written in other\"}]', name='tavily_search_results_json', id='6a4a939c-d72e-49b2-9e74-61c5100a4af6', tool_call_id='call_JDVvgXK0fb6TzaVcu6Vwe3Ne'),\n",
       " AIMessage(content='Python is a programming language that allows you to work quickly and integrate systems more effectively. It is versatile, popular, and great for beginners due to its concise and easy-to-read syntax. Python supports multiple paradigms, including object-oriented, procedural, functional, structured, reflective, and more. It is often referred to as a \"glue language\" because it can seamlessly integrate components written in other languages.\\n\\nFor more information, you can visit the [Python official website](https://www.python.org/).', response_metadata={'token_usage': {'completion_tokens': 104, 'prompt_tokens': 580, 'total_tokens': 684, 'completion_tokens_details': {'accepted_prediction_tokens': 0, 'audio_tokens': 0, 'reasoning_tokens': 0, 'rejected_prediction_tokens': 0}, 'prompt_tokens_details': {'audio_tokens': 0, 'cached_tokens': 0}}, 'model_name': 'gpt-3.5-turbo-0125', 'system_fingerprint': None, 'finish_reason': 'stop', 'logprobs': None}, id='run-5d6610ba-ea89-424f-b9b6-06d48ef6a76b-0', usage_metadata={'input_tokens': 580, 'output_tokens': 104, 'total_tokens': 684})]"
      ]
     },
     "execution_count": 11,
     "metadata": {},
     "output_type": "execute_result"
    }
   ],
   "source": [
    "from langchain_core.messages import HumanMessage\n",
    "\n",
    "response = agent_executor.invoke({\"messages\": [HumanMessage(content=\"what is Python?\")]})\n",
    "\n",
    "response[\"messages\"]"
   ]
  },
  {
   "cell_type": "code",
   "execution_count": 12,
   "metadata": {},
   "outputs": [
    {
     "name": "stdout",
     "output_type": "stream",
     "text": [
      "{'agent': {'messages': [AIMessage(content='', additional_kwargs={'tool_calls': [{'id': 'call_zcn0jNAEYrTGfCrJRzI0OsFR', 'function': {'arguments': '{\"query\":\"IPL 2021 current points table\"}', 'name': 'tavily_search_results_json'}, 'type': 'function'}]}, response_metadata={'token_usage': {'completion_tokens': 26, 'prompt_tokens': 94, 'total_tokens': 120, 'completion_tokens_details': {'accepted_prediction_tokens': 0, 'audio_tokens': 0, 'reasoning_tokens': 0, 'rejected_prediction_tokens': 0}, 'prompt_tokens_details': {'audio_tokens': 0, 'cached_tokens': 0}}, 'model_name': 'gpt-3.5-turbo-0125', 'system_fingerprint': None, 'finish_reason': 'tool_calls', 'logprobs': None}, id='run-b8c66ba0-87c5-4cfa-bb7e-b120c0f964b6-0', tool_calls=[{'name': 'tavily_search_results_json', 'args': {'query': 'IPL 2021 current points table'}, 'id': 'call_zcn0jNAEYrTGfCrJRzI0OsFR', 'type': 'tool_call'}], usage_metadata={'input_tokens': 94, 'output_tokens': 26, 'total_tokens': 120})]}}\n",
      "----\n",
      "{'tools': {'messages': [ToolMessage(content='[{\"url\": \"https://www.cricbuzz.com/cricket-series/3472/indian-premier-league-2021/points-table\", \"content\": \"Rajasthan Royals | 32nd Match | 21 Sep | Loss by 2 runs\\\\nSunrisers Hyderabad | 37th Match | 25 Sep | Won by 5 runs\\\\nMumbai Indians | 42nd Match | 28 Sep | Loss by 6 wkts\\\\nKolkata Knight Riders | 45th Match | 01 Oct | Won by 5 wkts\\\\nRoyal Challengers Bengaluru | 48th Match | 03 Oct | Loss by 6 runs\\\\nChennai Super Kings | 53rd Match | 07 Oct | Won by 6 wkts\\\\nRajasthan Royals | 14 | 5 | 9 | 0 | 0 | 10 | -0.993 | [...] Delhi Capitals | 36th Match | 25 Sep | Loss by 33 runs\\\\nSunrisers Hyderabad | 40th Match | 27 Sep | Loss by 7 wkts\\\\nRoyal Challengers Bengaluru | 43rd Match | 29 Sep | Loss by 7 wkts\\\\nChennai Super Kings | 47th Match | 02 Oct | Won by 7 wkts\\\\nMumbai Indians | 51st Match | 05 Oct | Loss by 8 wkts\\\\nKolkata Knight Riders | 54th Match | 07 Oct | Loss by 86 runs\\\\nSunrisers Hyderabad(E) | 14 | 3 | 11 | 0 | 0 | 6 | -0.545 | [...] Teams | Mat | Won | Lost | Tied | NR | Pts | NRR | \\\\nDelhi Capitals(Q) | 14 | 10 | 4 | 0 | 0 | 20 | +0.481 |\"}, {\"url\": \"https://sports.ndtv.com/ipl-2021&quot;/points-table\", \"content\": \"No | Teams | P | W | L | T | NR | PTS | NRR | \\\\n1 | Delhi CapitalsDC | 14 | 10 | 4 | 0 | 0 | 20 | +0.481 | [...] 8 | Sunrisers HyderabadSRH | 14 | 3 | 11 | 0 | 0 | 6 | -0.545 | [...] 3 | Royal Challengers BangaloreRCB | 14 | 9 | 5 | 0 | 0 | 18 | -0.140 |\"}]', name='tavily_search_results_json', tool_call_id='call_zcn0jNAEYrTGfCrJRzI0OsFR')]}}\n",
      "----\n",
      "{'agent': {'messages': [AIMessage(content='The top teams in the IPL currently are:\\n\\n1. Delhi Capitals - 20 points\\n2. Royal Challengers Bangalore - 18 points\\n\\nThese teams are leading the IPL points table at the moment.', response_metadata={'token_usage': {'completion_tokens': 43, 'prompt_tokens': 668, 'total_tokens': 711, 'completion_tokens_details': {'accepted_prediction_tokens': 0, 'audio_tokens': 0, 'reasoning_tokens': 0, 'rejected_prediction_tokens': 0}, 'prompt_tokens_details': {'audio_tokens': 0, 'cached_tokens': 0}}, 'model_name': 'gpt-3.5-turbo-0125', 'system_fingerprint': None, 'finish_reason': 'stop', 'logprobs': None}, id='run-0bec6ba8-02ad-4670-bc52-36889ef73301-0', usage_metadata={'input_tokens': 668, 'output_tokens': 43, 'total_tokens': 711})]}}\n",
      "----\n"
     ]
    }
   ],
   "source": [
    "for chunk in agent_executor.stream(\n",
    "    {\"messages\": [HumanMessage(content=\"Who are the top of the IPL teams currently in the table?\")]}\n",
    "    ): \n",
    "        print(chunk)\n",
    "        print(\"----\")"
   ]
  },
  {
   "cell_type": "markdown",
   "metadata": {},
   "source": [
    "## Adding Memory"
   ]
  },
  {
   "cell_type": "code",
   "execution_count": 13,
   "metadata": {},
   "outputs": [],
   "source": [
    "from langgraph.checkpoint.memory import MemorySaver\n",
    "\n",
    "memory = MemorySaver()"
   ]
  },
  {
   "cell_type": "code",
   "execution_count": 22,
   "metadata": {},
   "outputs": [],
   "source": [
    "agent_executor = create_react_agent(llm , tools, checkpointer=memory)\n",
    "config ={\"configurable\": {\"thread_id\": \"001\"}}"
   ]
  },
  {
   "cell_type": "code",
   "execution_count": 24,
   "metadata": {},
   "outputs": [
    {
     "name": "stdout",
     "output_type": "stream",
     "text": [
      "{'agent': {'messages': [AIMessage(content='', additional_kwargs={'tool_calls': [{'id': 'call_7ONNQPtnbexRdXQaRHXNAIF2', 'function': {'arguments': '{\"query\":\"IPL 2021 points table\"}', 'name': 'tavily_search_results_json'}, 'type': 'function'}]}, response_metadata={'token_usage': {'completion_tokens': 25, 'prompt_tokens': 1986, 'total_tokens': 2011, 'completion_tokens_details': {'accepted_prediction_tokens': 0, 'audio_tokens': 0, 'reasoning_tokens': 0, 'rejected_prediction_tokens': 0}, 'prompt_tokens_details': {'audio_tokens': 0, 'cached_tokens': 0}}, 'model_name': 'gpt-3.5-turbo-0125', 'system_fingerprint': None, 'finish_reason': 'tool_calls', 'logprobs': None}, id='run-6e3630de-8064-4f0e-a631-e254fe84bb7a-0', tool_calls=[{'name': 'tavily_search_results_json', 'args': {'query': 'IPL 2021 points table'}, 'id': 'call_7ONNQPtnbexRdXQaRHXNAIF2', 'type': 'tool_call'}], usage_metadata={'input_tokens': 1986, 'output_tokens': 25, 'total_tokens': 2011})]}}\n",
      "----\n",
      "{'tools': {'messages': [ToolMessage(content='[{\"url\": \"https://www.cricbuzz.com/cricket-series/3472/indian-premier-league-2021/points-table\", \"content\": \"Rajasthan Royals | 32nd Match | 21 Sep | Loss by 2 runs\\\\nSunrisers Hyderabad | 37th Match | 25 Sep | Won by 5 runs\\\\nMumbai Indians | 42nd Match | 28 Sep | Loss by 6 wkts\\\\nKolkata Knight Riders | 45th Match | 01 Oct | Won by 5 wkts\\\\nRoyal Challengers Bengaluru | 48th Match | 03 Oct | Loss by 6 runs\\\\nChennai Super Kings | 53rd Match | 07 Oct | Won by 6 wkts\\\\nRajasthan Royals | 14 | 5 | 9 | 0 | 0 | 10 | -0.993 | [...] Delhi Capitals | 36th Match | 25 Sep | Loss by 33 runs\\\\nSunrisers Hyderabad | 40th Match | 27 Sep | Loss by 7 wkts\\\\nRoyal Challengers Bengaluru | 43rd Match | 29 Sep | Loss by 7 wkts\\\\nChennai Super Kings | 47th Match | 02 Oct | Won by 7 wkts\\\\nMumbai Indians | 51st Match | 05 Oct | Loss by 8 wkts\\\\nKolkata Knight Riders | 54th Match | 07 Oct | Loss by 86 runs\\\\nSunrisers Hyderabad(E) | 14 | 3 | 11 | 0 | 0 | 6 | -0.545 | [...] Teams | Mat | Won | Lost | Tied | NR | Pts | NRR | \\\\nDelhi Capitals(Q) | 14 | 10 | 4 | 0 | 0 | 20 | +0.481 |\"}, {\"url\": \"https://sports.ndtv.com/ipl-2021&quot;/points-table\", \"content\": \"No | Teams | P | W | L | T | NR | PTS | NRR | \\\\n1 | Delhi CapitalsDC | 14 | 10 | 4 | 0 | 0 | 20 | +0.481 | [...] 8 | Sunrisers HyderabadSRH | 14 | 3 | 11 | 0 | 0 | 6 | -0.545 | [...] 3 | Royal Challengers BangaloreRCB | 14 | 9 | 5 | 0 | 0 | 18 | -0.140 |\"}]', name='tavily_search_results_json', tool_call_id='call_7ONNQPtnbexRdXQaRHXNAIF2')]}}\n",
      "----\n",
      "{'agent': {'messages': [AIMessage(content='The top teams in the IPL points table currently are:\\n\\n1. Delhi Capitals (DC) - Played 14, Won 10, Lost 4, Points 20\\n2. Royal Challengers Bangalore (RCB) - Played 14, Won 9, Lost 5, Points 18\\n\\nThese are the top teams based on the points table standings.', response_metadata={'token_usage': {'completion_tokens': 76, 'prompt_tokens': 2559, 'total_tokens': 2635, 'completion_tokens_details': {'accepted_prediction_tokens': 0, 'audio_tokens': 0, 'reasoning_tokens': 0, 'rejected_prediction_tokens': 0}, 'prompt_tokens_details': {'audio_tokens': 0, 'cached_tokens': 0}}, 'model_name': 'gpt-3.5-turbo-0125', 'system_fingerprint': None, 'finish_reason': 'stop', 'logprobs': None}, id='run-460ba9c5-4fe8-45b7-8004-abb5de47270a-0', usage_metadata={'input_tokens': 2559, 'output_tokens': 76, 'total_tokens': 2635})]}}\n",
      "----\n"
     ]
    }
   ],
   "source": [
    "for chunk in agent_executor.stream(\n",
    "    {\"messages\": [HumanMessage(content=\"Who are the top of the IPL teams currently in the table?\")]}, config\n",
    "    ): \n",
    "        print(chunk)\n",
    "        print(\"----\")"
   ]
  },
  {
   "cell_type": "code",
   "execution_count": 25,
   "metadata": {},
   "outputs": [
    {
     "name": "stdout",
     "output_type": "stream",
     "text": [
      "{'agent': {'messages': [AIMessage(content='The top-placed team, Delhi Capitals (DC), currently has 20 points in the IPL points table.', response_metadata={'token_usage': {'completion_tokens': 24, 'prompt_tokens': 2650, 'total_tokens': 2674, 'completion_tokens_details': {'accepted_prediction_tokens': 0, 'audio_tokens': 0, 'reasoning_tokens': 0, 'rejected_prediction_tokens': 0}, 'prompt_tokens_details': {'audio_tokens': 0, 'cached_tokens': 0}}, 'model_name': 'gpt-3.5-turbo-0125', 'system_fingerprint': None, 'finish_reason': 'stop', 'logprobs': None}, id='run-d004e3e9-d22c-4e4c-8004-fafa06085894-0', usage_metadata={'input_tokens': 2650, 'output_tokens': 24, 'total_tokens': 2674})]}}\n",
      "----\n"
     ]
    }
   ],
   "source": [
    "for chunk in agent_executor.stream(\n",
    "    {\"messages\": [HumanMessage(content=\"How many points top place team have now?\")]}, config\n",
    "    ): \n",
    "        print(chunk)\n",
    "        print(\"----\")"
   ]
  }
 ],
 "metadata": {
  "kernelspec": {
   "display_name": "langchaineco",
   "language": "python",
   "name": "python3"
  },
  "language_info": {
   "codemirror_mode": {
    "name": "ipython",
    "version": 3
   },
   "file_extension": ".py",
   "mimetype": "text/x-python",
   "name": "python",
   "nbconvert_exporter": "python",
   "pygments_lexer": "ipython3",
   "version": "3.11.11"
  }
 },
 "nbformat": 4,
 "nbformat_minor": 2
}
